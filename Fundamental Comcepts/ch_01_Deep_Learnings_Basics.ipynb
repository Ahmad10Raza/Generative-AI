{
 "cells": [
  {
   "cell_type": "markdown",
   "metadata": {},
   "source": [
    "# Table Of Contents:\n",
    "\n",
    "1. **Neural Networks:**\n",
    "   - Perceptrons\n",
    "   - Multi-layer perceptrons (MLP)\n",
    "   - Backpropagation"
   ]
  },
  {
   "cell_type": "markdown",
   "metadata": {},
   "source": [
    "# What is Neural Network?"
   ]
  },
  {
   "cell_type": "markdown",
   "metadata": {},
   "source": [
    "A neural network is a computational model inspired by the way biological neural networks in the human brain function. It is a key component of machine learning and artificial intelligence. Neural networks are designed to recognize patterns, interpret data, and make intelligent decisions, similar to the way the human brain works.\n",
    "\n",
    "At its core, a neural network consists of interconnected nodes, or artificial neurons, organized into layers. The three main types of layers in a neural network are the input layer, hidden layers, and output layer. Here's a brief overview of each:\n",
    "\n",
    "1. **Input Layer:**\n",
    "   - The input layer receives the initial data or features that the neural network will process. Each node in the input layer represents a feature of the input data.\n",
    "\n",
    "2. **Hidden Layers:**\n",
    "   - Between the input and output layers, there can be one or more hidden layers. These layers process the input data using weights that are adjusted during training. The term \"hidden\" comes from the fact that the computations in these layers are not directly observable from the network's input or output.\n",
    "\n",
    "3. **Output Layer:**\n",
    "   - The output layer produces the final result or prediction. The number of nodes in the output layer depends on the type of task the neural network is designed for (e.g., binary classification, multiclass classification, regression).\n",
    "\n",
    "Each connection between nodes in different layers is associated with a weight, and the neural network learns by adjusting these weights during a training process. During training, the network is fed with labeled examples, and it adjusts its weights to minimize the difference between its predictions and the actual labels. This process is typically done using optimization algorithms like gradient descent.\n",
    "\n",
    "Neural networks can be categorized based on their architecture, and some common types include:\n",
    "- **Feedforward Neural Networks (FNN):** Information travels in one direction, from the input layer to the output layer.\n",
    "- **Recurrent Neural Networks (RNN):** Include loops to allow information persistence over time, making them suitable for sequence data.\n",
    "- **Convolutional Neural Networks (CNN):** Specialized for processing grid-like data, such as images. They use convolutional layers for local feature extraction.\n",
    "\n",
    "Neural networks have demonstrated remarkable success in various applications, including image and speech recognition, natural language processing, and playing games. They are a fundamental building block in deep learning, a subset of machine learning focused on using deep neural networks with multiple hidden layers."
   ]
  },
  {
   "cell_type": "markdown",
   "metadata": {},
   "source": [
    "# What is Perceptrons?"
   ]
  },
  {
   "cell_type": "markdown",
   "metadata": {},
   "source": []
  }
 ],
 "metadata": {
  "kernelspec": {
   "display_name": "Python 3",
   "language": "python",
   "name": "python3"
  },
  "language_info": {
   "name": "python",
   "version": "3.10.12"
  }
 },
 "nbformat": 4,
 "nbformat_minor": 2
}
